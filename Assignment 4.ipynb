{
 "cells": [
  {
   "cell_type": "code",
   "execution_count": 15,
   "id": "1d0b7ab2",
   "metadata": {},
   "outputs": [
    {
     "name": "stdout",
     "output_type": "stream",
     "text": [
      "Select operation.\n",
      "1.Add\n",
      "2.Subtract\n",
      "3.Multiply\n",
      "4.Divide\n",
      "5.Power\n",
      "Enter choice(1/2/3/4/5): 1\n",
      "Please Enter First number: 5\n",
      "Please Enter Second number: 5\n",
      "5.0 + 5.0 = 10.0\n",
      "Do You want to perform another calculation? (yes/no): yes\n",
      "Enter choice(1/2/3/4/5): 2\n",
      "Please Enter First number: 10\n",
      "Please Enter Second number: 5\n",
      "10.0 - 5.0 = 5.0\n",
      "Do You want to perform another calculation? (yes/no): yes\n",
      "Enter choice(1/2/3/4/5): 3\n",
      "Please Enter First number: 5\n",
      "Please Enter Second number: 3\n",
      "5.0 * 3.0 = 15.0\n",
      "Do You want to perform another calculation? (yes/no): yes\n",
      "Enter choice(1/2/3/4/5): 4\n",
      "Please Enter First number: 20\n",
      "Please Enter Second number: 4\n",
      "20.0 / 4.0 = 5.0\n",
      "Do You want to perform another calculation? (yes/no): yes\n",
      "Enter choice(1/2/3/4/5): 5\n",
      "Please Enter First number: 4\n",
      "Please Enter Second number: 5\n",
      "4.0 ^ 5.0 = 1024.0\n",
      "Do You want to perform another calculation? (yes/no): no\n",
      "Thank you. Please come back later\n"
     ]
    }
   ],
   "source": [
    "#Q1 Make a calculator using Python with addition , subtraction , multiplication ,division and power\n",
    "\n",
    "def add(x, y):\n",
    "    return x + y\n",
    "\n",
    "def subtract(x, y):\n",
    "    return x - y\n",
    "\n",
    "def multiply(x, y):\n",
    "    return x * y\n",
    "\n",
    "def divide(x, y):\n",
    "    return x / y\n",
    "\n",
    "def power(x, y):\n",
    "    return x**y\n",
    "\n",
    "print(\"Select operation.\")\n",
    "print(\"1.Add\")\n",
    "print(\"2.Subtract\")\n",
    "print(\"3.Multiply\")\n",
    "print(\"4.Divide\")\n",
    "print(\"5.Power\")\n",
    "\n",
    "while True:\n",
    "    choice = input(\"Enter choice(1/2/3/4/5): \")\n",
    "\n",
    "    # check if choice is one of the four options\n",
    "    if choice in ('1', '2', '3', '4','5'):\n",
    "        num1 = float(input(\"Please Enter First number: \"))\n",
    "        num2 = float(input(\"Please Enter Second number: \"))\n",
    "\n",
    "        if choice == '1':\n",
    "            print(num1, \"+\", num2, \"=\", add(num1, num2))\n",
    "\n",
    "        elif choice == '2':\n",
    "            print(num1, \"-\", num2, \"=\", subtract(num1, num2))\n",
    "\n",
    "        elif choice == '3':\n",
    "            print(num1, \"*\", num2, \"=\", multiply(num1, num2))\n",
    "\n",
    "        elif choice == '4':\n",
    "            print(num1, \"/\", num2, \"=\", divide(num1, num2))\n",
    "        elif choice == '5':\n",
    "            print(num1, \"^\", num2, \"=\", power(num1, num2))\n",
    "        \n",
    "        next_calculation = input(\"Do You want to perform another calculation? (yes/no): \")\n",
    "        if next_calculation == \"no\":\n",
    "            print(\"Thank you. Please come back later\")\n",
    "            break\n",
    "    \n",
    "    else:\n",
    "        print(\"Invalid Input\")"
   ]
  },
  {
   "cell_type": "code",
   "execution_count": 20,
   "id": "fdf371d0",
   "metadata": {},
   "outputs": [
    {
     "name": "stdout",
     "output_type": "stream",
     "text": [
      "The Numeric value exist in list is =  4\n",
      "The Numeric value exist in list is =  6\n"
     ]
    }
   ],
   "source": [
    "#Q2 Write a program to check if there is any numeric value in list using for loop.\n",
    "\n",
    "list = [\"abc\", \"def\", 4, \"ghi\",6] \n",
    "for x in list: \n",
    "    if type(x) == int: \n",
    "        print(\"The Numeric value exist in list is = \",x)"
   ]
  },
  {
   "cell_type": "code",
   "execution_count": 30,
   "id": "a965714c",
   "metadata": {},
   "outputs": [
    {
     "name": "stdout",
     "output_type": "stream",
     "text": [
      "Current Dict is:  {1: 'apple', 2: 'banana'}\n",
      "Updated Dict is:  {1: 'apple', 2: 'banana', 3: 'Orange'}\n",
      "Final Dictionary is:\n",
      "{1: 'apple', 2: 'banana', 3: 'Orange', 4: 'grapes', 5: 'mango'}\n"
     ]
    }
   ],
   "source": [
    "# Q3 Write a Python script to add a key to a dictionary.\n",
    "\n",
    "dict = {1:'apple', 2:'banana'}\n",
    "print(\"Current Dict is: \", dict)\n",
    "  \n",
    "dict.update({3:'Orange'}) # Adding 3rd key\n",
    "print(\"Updated Dict is: \", dict)\n",
    "  \n",
    "dict1 = {4:'grapes', 5:'mango'}\n",
    "dict.update(dict1)\n",
    "print(\"Final Dictionary is:\")\n",
    "print(dict)\n"
   ]
  },
  {
   "cell_type": "code",
   "execution_count": 42,
   "id": "151a5741",
   "metadata": {},
   "outputs": [
    {
     "name": "stdout",
     "output_type": "stream",
     "text": [
      "initial list =  ['dictionary', 3, 5, 8, 'Jawan pakistan', 'Python', 'a', 5, 9, 'Data Science']\n",
      "Sum of numeric value in list is = 30\n"
     ]
    }
   ],
   "source": [
    "#Q4 Write a Python program to sum all the numeric items in a dictionary.\n",
    "\n",
    "list = [\"dictionary\", 3, 5, 8, 'Jawan pakistan', 'Python', 'a', 5, 9,'Data Science']\n",
    "  \n",
    "print (\"initial list = \", str(list))\n",
    "\n",
    "sum = 0\n",
    "for i in list:\n",
    "    try:\n",
    "        sum+= int(i)\n",
    "    except ValueError:\n",
    "        pass\n",
    "\n",
    "print (\"Sum of numeric value in list is =\", sum)"
   ]
  },
  {
   "cell_type": "code",
   "execution_count": 64,
   "id": "7cf2d3dc",
   "metadata": {},
   "outputs": [
    {
     "name": "stdout",
     "output_type": "stream",
     "text": [
      "[12, 5, 3, 'Python', 'Data Science', 3, 12, 1, 2, 15, 11, 'Jawan', 'Pakistan', 15, 5, 7, 9, 1, 'Python', 'Jawan', 'Pakistan']\n",
      "\n",
      "Duplicate values in list are: \n",
      "3, 12, 15, 5, 1, Python, Jawan, Pakistan, "
     ]
    }
   ],
   "source": [
    "#Q5 Write a program to identify duplicate values from list.\n",
    "\n",
    "list=[12,5,3,\"Python\",\"Data Science\",3,12,1,2,15,11,\"Jawan\",\"Pakistan\",15,5,7,9,1,\"Python\",\"Jawan\",\"Pakistan\"]\n",
    "list1=[]\n",
    "print(list)\n",
    "print(\"\\nDuplicate values in list are: \")\n",
    "for i in list:\n",
    "    if i not in list1:\n",
    "        list1.append(i)\n",
    "    else:\n",
    "        print(i,end=', ')\n",
    "\n"
   ]
  },
  {
   "cell_type": "code",
   "execution_count": 62,
   "id": "44029411",
   "metadata": {},
   "outputs": [
    {
     "name": "stdout",
     "output_type": "stream",
     "text": [
      "Enter key to check:Python\n",
      "Key is present and value of the key is:\n",
      "1\n"
     ]
    }
   ],
   "source": [
    "#Q6 Write a Python script to check if a given key already exists in a dictionary\n",
    "\n",
    "dict={'Python':1,'Jawan':2,'Pakistan':3,\"Data Science\":4}\n",
    "key=input(\"Enter key to check:\")\n",
    "if key in dict.keys():\n",
    "    print(\"Key is present and value of the key is:\")\n",
    "    print(dict[key])\n",
    "else:\n",
    "    print(\"Key isn't present!\")"
   ]
  },
  {
   "cell_type": "code",
   "execution_count": null,
   "id": "84f7703e",
   "metadata": {},
   "outputs": [],
   "source": []
  }
 ],
 "metadata": {
  "kernelspec": {
   "display_name": "Python 3",
   "language": "python",
   "name": "python3"
  },
  "language_info": {
   "codemirror_mode": {
    "name": "ipython",
    "version": 3
   },
   "file_extension": ".py",
   "mimetype": "text/x-python",
   "name": "python",
   "nbconvert_exporter": "python",
   "pygments_lexer": "ipython3",
   "version": "3.8.8"
  }
 },
 "nbformat": 4,
 "nbformat_minor": 5
}
